{
 "cells": [
  {
   "cell_type": "markdown",
   "id": "cee6af6c",
   "metadata": {},
   "source": [
    "## Model Training\n",
    "\n",
    "\n",
    "### 1.1 Import Data and Reqhired Packages\n",
    "\n",
    "\n",
    "#### Importing Pandas, Numpy, Matplptlib, Seaborn and Waenings Library."
   ]
  },
  {
   "cell_type": "code",
   "execution_count": 2,
   "id": "b74494b1",
   "metadata": {},
   "outputs": [],
   "source": [
    "# Basic Import\n",
    "import numpy as np\n",
    "import pandas as pd\n",
    "import matplotlib.pyplot as plt \n",
    "import seaborn as sns\n",
    "# Modelling\n",
    "from sklearn.metrics import mean_squared_error, r2_score\n",
    "from sklearn.neighbors import KNeighborsRegressor\n",
    "from sklearn.tree import DecisionTreeRegressor\n",
    "from sklearn.ensemble import RandomForestRegressor,AdaBoostRegressor\n",
    "from sklearn.svm import SVR\n",
    "from sklearn.linear_model import LinearRegression, Ridge,Lasso\n",
    "from sklearn.metrics import r2_score, mean_absolute_error, mean_squared_error\n",
    "from sklearn.model_selection import RandomizedSearchCV\n",
    "from catboost import CatBoostRegressor\n",
    "from xgboost import XGBRegressor\n",
    "import warnings\n",
    "warnings.filterwarnings('ignore')\n"
   ]
  },
  {
   "cell_type": "markdown",
   "id": "4edd7187",
   "metadata": {},
   "source": [
    "## Import the CSV Data as Pandas DataFrame"
   ]
  },
  {
   "cell_type": "code",
   "execution_count": 4,
   "id": "06146f36",
   "metadata": {},
   "outputs": [],
   "source": [
    "df = pd.read_csv('data/stud.csv')"
   ]
  },
  {
   "cell_type": "markdown",
   "id": "f3508517",
   "metadata": {},
   "source": [
    "## Show Top 5 Records"
   ]
  },
  {
   "cell_type": "code",
   "execution_count": 5,
   "id": "62698ff0",
   "metadata": {},
   "outputs": [
    {
     "data": {
      "text/html": [
       "<div>\n",
       "<style scoped>\n",
       "    .dataframe tbody tr th:only-of-type {\n",
       "        vertical-align: middle;\n",
       "    }\n",
       "\n",
       "    .dataframe tbody tr th {\n",
       "        vertical-align: top;\n",
       "    }\n",
       "\n",
       "    .dataframe thead th {\n",
       "        text-align: right;\n",
       "    }\n",
       "</style>\n",
       "<table border=\"1\" class=\"dataframe\">\n",
       "  <thead>\n",
       "    <tr style=\"text-align: right;\">\n",
       "      <th></th>\n",
       "      <th>gender</th>\n",
       "      <th>race_ethnicity</th>\n",
       "      <th>parental_level_of_education</th>\n",
       "      <th>lunch</th>\n",
       "      <th>test_preparation_course</th>\n",
       "      <th>math_score</th>\n",
       "      <th>reading_score</th>\n",
       "      <th>writing_score</th>\n",
       "    </tr>\n",
       "  </thead>\n",
       "  <tbody>\n",
       "    <tr>\n",
       "      <th>0</th>\n",
       "      <td>female</td>\n",
       "      <td>group B</td>\n",
       "      <td>bachelor's degree</td>\n",
       "      <td>standard</td>\n",
       "      <td>none</td>\n",
       "      <td>72</td>\n",
       "      <td>72</td>\n",
       "      <td>74</td>\n",
       "    </tr>\n",
       "    <tr>\n",
       "      <th>1</th>\n",
       "      <td>female</td>\n",
       "      <td>group C</td>\n",
       "      <td>some college</td>\n",
       "      <td>standard</td>\n",
       "      <td>completed</td>\n",
       "      <td>69</td>\n",
       "      <td>90</td>\n",
       "      <td>88</td>\n",
       "    </tr>\n",
       "    <tr>\n",
       "      <th>2</th>\n",
       "      <td>female</td>\n",
       "      <td>group B</td>\n",
       "      <td>master's degree</td>\n",
       "      <td>standard</td>\n",
       "      <td>none</td>\n",
       "      <td>90</td>\n",
       "      <td>95</td>\n",
       "      <td>93</td>\n",
       "    </tr>\n",
       "    <tr>\n",
       "      <th>3</th>\n",
       "      <td>male</td>\n",
       "      <td>group A</td>\n",
       "      <td>associate's degree</td>\n",
       "      <td>free/reduced</td>\n",
       "      <td>none</td>\n",
       "      <td>47</td>\n",
       "      <td>57</td>\n",
       "      <td>44</td>\n",
       "    </tr>\n",
       "    <tr>\n",
       "      <th>4</th>\n",
       "      <td>male</td>\n",
       "      <td>group C</td>\n",
       "      <td>some college</td>\n",
       "      <td>standard</td>\n",
       "      <td>none</td>\n",
       "      <td>76</td>\n",
       "      <td>78</td>\n",
       "      <td>75</td>\n",
       "    </tr>\n",
       "  </tbody>\n",
       "</table>\n",
       "</div>"
      ],
      "text/plain": [
       "   gender race_ethnicity parental_level_of_education         lunch  \\\n",
       "0  female        group B           bachelor's degree      standard   \n",
       "1  female        group C                some college      standard   \n",
       "2  female        group B             master's degree      standard   \n",
       "3    male        group A          associate's degree  free/reduced   \n",
       "4    male        group C                some college      standard   \n",
       "\n",
       "  test_preparation_course  math_score  reading_score  writing_score  \n",
       "0                    none          72             72             74  \n",
       "1               completed          69             90             88  \n",
       "2                    none          90             95             93  \n",
       "3                    none          47             57             44  \n",
       "4                    none          76             78             75  "
      ]
     },
     "execution_count": 5,
     "metadata": {},
     "output_type": "execute_result"
    }
   ],
   "source": [
    "df.head()"
   ]
  },
  {
   "cell_type": "markdown",
   "id": "4d2474ff",
   "metadata": {},
   "source": [
    "## Preparing X and Y variables"
   ]
  },
  {
   "cell_type": "code",
   "execution_count": 6,
   "id": "23ac9823",
   "metadata": {},
   "outputs": [],
   "source": [
    "X = df.drop(columns = ['math_score'], axis = 1)"
   ]
  },
  {
   "cell_type": "code",
   "execution_count": 7,
   "id": "5d02f7d6",
   "metadata": {},
   "outputs": [
    {
     "data": {
      "text/html": [
       "<div>\n",
       "<style scoped>\n",
       "    .dataframe tbody tr th:only-of-type {\n",
       "        vertical-align: middle;\n",
       "    }\n",
       "\n",
       "    .dataframe tbody tr th {\n",
       "        vertical-align: top;\n",
       "    }\n",
       "\n",
       "    .dataframe thead th {\n",
       "        text-align: right;\n",
       "    }\n",
       "</style>\n",
       "<table border=\"1\" class=\"dataframe\">\n",
       "  <thead>\n",
       "    <tr style=\"text-align: right;\">\n",
       "      <th></th>\n",
       "      <th>gender</th>\n",
       "      <th>race_ethnicity</th>\n",
       "      <th>parental_level_of_education</th>\n",
       "      <th>lunch</th>\n",
       "      <th>test_preparation_course</th>\n",
       "      <th>reading_score</th>\n",
       "      <th>writing_score</th>\n",
       "    </tr>\n",
       "  </thead>\n",
       "  <tbody>\n",
       "    <tr>\n",
       "      <th>0</th>\n",
       "      <td>female</td>\n",
       "      <td>group B</td>\n",
       "      <td>bachelor's degree</td>\n",
       "      <td>standard</td>\n",
       "      <td>none</td>\n",
       "      <td>72</td>\n",
       "      <td>74</td>\n",
       "    </tr>\n",
       "    <tr>\n",
       "      <th>1</th>\n",
       "      <td>female</td>\n",
       "      <td>group C</td>\n",
       "      <td>some college</td>\n",
       "      <td>standard</td>\n",
       "      <td>completed</td>\n",
       "      <td>90</td>\n",
       "      <td>88</td>\n",
       "    </tr>\n",
       "    <tr>\n",
       "      <th>2</th>\n",
       "      <td>female</td>\n",
       "      <td>group B</td>\n",
       "      <td>master's degree</td>\n",
       "      <td>standard</td>\n",
       "      <td>none</td>\n",
       "      <td>95</td>\n",
       "      <td>93</td>\n",
       "    </tr>\n",
       "    <tr>\n",
       "      <th>3</th>\n",
       "      <td>male</td>\n",
       "      <td>group A</td>\n",
       "      <td>associate's degree</td>\n",
       "      <td>free/reduced</td>\n",
       "      <td>none</td>\n",
       "      <td>57</td>\n",
       "      <td>44</td>\n",
       "    </tr>\n",
       "    <tr>\n",
       "      <th>4</th>\n",
       "      <td>male</td>\n",
       "      <td>group C</td>\n",
       "      <td>some college</td>\n",
       "      <td>standard</td>\n",
       "      <td>none</td>\n",
       "      <td>78</td>\n",
       "      <td>75</td>\n",
       "    </tr>\n",
       "  </tbody>\n",
       "</table>\n",
       "</div>"
      ],
      "text/plain": [
       "   gender race_ethnicity parental_level_of_education         lunch  \\\n",
       "0  female        group B           bachelor's degree      standard   \n",
       "1  female        group C                some college      standard   \n",
       "2  female        group B             master's degree      standard   \n",
       "3    male        group A          associate's degree  free/reduced   \n",
       "4    male        group C                some college      standard   \n",
       "\n",
       "  test_preparation_course  reading_score  writing_score  \n",
       "0                    none             72             74  \n",
       "1               completed             90             88  \n",
       "2                    none             95             93  \n",
       "3                    none             57             44  \n",
       "4                    none             78             75  "
      ]
     },
     "execution_count": 7,
     "metadata": {},
     "output_type": "execute_result"
    }
   ],
   "source": [
    "X.head()"
   ]
  },
  {
   "cell_type": "code",
   "execution_count": 8,
   "id": "d2532fc0",
   "metadata": {},
   "outputs": [],
   "source": [
    "def unique_values(dataframe):\n",
    "    for i in dataframe.columns:\n",
    "        print(f\"For column '{i}' unique values are following: \")\n",
    "        print(dataframe[i].unique())\n",
    "        print()"
   ]
  },
  {
   "cell_type": "code",
   "execution_count": 9,
   "id": "118aa198",
   "metadata": {},
   "outputs": [
    {
     "name": "stdout",
     "output_type": "stream",
     "text": [
      "For column 'gender' unique values are following: \n",
      "['female' 'male']\n",
      "\n",
      "For column 'race_ethnicity' unique values are following: \n",
      "['group B' 'group C' 'group A' 'group D' 'group E']\n",
      "\n",
      "For column 'parental_level_of_education' unique values are following: \n",
      "[\"bachelor's degree\" 'some college' \"master's degree\" \"associate's degree\"\n",
      " 'high school' 'some high school']\n",
      "\n",
      "For column 'lunch' unique values are following: \n",
      "['standard' 'free/reduced']\n",
      "\n",
      "For column 'test_preparation_course' unique values are following: \n",
      "['none' 'completed']\n",
      "\n",
      "For column 'math_score' unique values are following: \n",
      "[ 72  69  90  47  76  71  88  40  64  38  58  65  78  50  18  46  54  66\n",
      "  44  74  73  67  70  62  63  56  97  81  75  57  55  53  59  82  77  33\n",
      "  52   0  79  39  45  60  61  41  49  30  80  42  27  43  68  85  98  87\n",
      "  51  99  84  91  83  89  22 100  96  94  48  35  34  86  92  37  28  24\n",
      "  26  95  36  29  32  93  19  23   8]\n",
      "\n",
      "For column 'reading_score' unique values are following: \n",
      "[ 72  90  95  57  78  83  43  64  60  54  52  81  53  75  89  32  42  58\n",
      "  69  73  71  74  70  65  87  56  61  84  55  44  41  85  59  17  39  80\n",
      "  37  63  51  49  26  68  45  47  86  34  79  66  67  91 100  76  77  82\n",
      "  92  93  62  88  50  28  48  46  23  38  94  97  99  31  96  24  29  40]\n",
      "\n",
      "For column 'writing_score' unique values are following: \n",
      "[ 74  88  93  44  75  78  92  39  67  50  52  43  73  70  58  86  28  46\n",
      "  61  63  53  80  72  55  65  38  82  79  83  59  57  54  68  66  62  76\n",
      "  48  42  87  49  10  34  71  37  56  41  22  81  45  36  89  47  90 100\n",
      "  64  98  51  40  84  69  33  60  85  91  77  27  94  95  19  35  32  96\n",
      "  97  99  15  30  23]\n",
      "\n"
     ]
    }
   ],
   "source": [
    "unique_values(df)"
   ]
  },
  {
   "cell_type": "code",
   "execution_count": 10,
   "id": "9665a19c",
   "metadata": {},
   "outputs": [],
   "source": [
    "Y = df['math_score']"
   ]
  },
  {
   "cell_type": "code",
   "execution_count": 11,
   "id": "6b71fe93",
   "metadata": {},
   "outputs": [],
   "source": [
    "# Create Column Transformer with 3 types of transformers\n",
    "\n",
    "num_features = X.select_dtypes(exclude = 'object').columns\n",
    "cat_features = X.select_dtypes(include = 'object').columns\n",
    "\n",
    "from sklearn.preprocessing import OneHotEncoder, StandardScaler\n",
    "from sklearn.compose import ColumnTransformer\n",
    "\n",
    "numeric_transformer =  StandardScaler()\n",
    "oh_transformer = OneHotEncoder()\n",
    "\n",
    "preprocessor = ColumnTransformer(\n",
    "    [\n",
    "        ('OneHotEncoder', oh_transformer, cat_features),\n",
    "        ('StandardScaler', numeric_transformer, num_features)\n",
    "    ]\n",
    "\n",
    ")"
   ]
  },
  {
   "cell_type": "code",
   "execution_count": 12,
   "id": "26bf7f47",
   "metadata": {},
   "outputs": [],
   "source": [
    "X = preprocessor.fit_transform(X)"
   ]
  },
  {
   "cell_type": "code",
   "execution_count": 13,
   "id": "1ec5ea81",
   "metadata": {},
   "outputs": [
    {
     "data": {
      "text/plain": [
       "(1000, 19)"
      ]
     },
     "execution_count": 13,
     "metadata": {},
     "output_type": "execute_result"
    }
   ],
   "source": [
    "X.shape"
   ]
  },
  {
   "cell_type": "code",
   "execution_count": 14,
   "id": "e59fac1f",
   "metadata": {},
   "outputs": [
    {
     "data": {
      "text/plain": [
       "((800, 19), (200, 19))"
      ]
     },
     "execution_count": 14,
     "metadata": {},
     "output_type": "execute_result"
    }
   ],
   "source": [
    "# separate dataset into train and test\n",
    "from sklearn.model_selection import train_test_split\n",
    "X_train, X_test, Y_train, Y_test = train_test_split(X,Y,test_size=0.2,random_state=42)\n",
    "X_train.shape, X_test.shape"
   ]
  },
  {
   "cell_type": "markdown",
   "id": "6c65d606",
   "metadata": {},
   "source": [
    "## Create an Evaluate Function to give all metrics after model Training"
   ]
  },
  {
   "cell_type": "code",
   "execution_count": 15,
   "id": "adac78cd",
   "metadata": {},
   "outputs": [],
   "source": [
    "def evaluate_model(true, predicted):\n",
    "    mae = mean_absolute_error(true, predicted)\n",
    "    mse = mean_squared_error(true, predicted)\n",
    "    rmse = np.sqrt(mean_squared_error(true, predicted))\n",
    "    r2_square = r2_score(true, predicted)\n",
    "    return mae, rmse, r2_square"
   ]
  },
  {
   "cell_type": "code",
   "execution_count": 16,
   "id": "90fa3456",
   "metadata": {},
   "outputs": [],
   "source": [
    "models = {\n",
    "    \"Linear Regression\": LinearRegression(),\n",
    "    \"Lasso\": Lasso(),\n",
    "    \"Ridge\": Ridge(),\n",
    "    \"K-Neighbors Regressor\": KNeighborsRegressor(),\n",
    "    \"Decision Tree\": DecisionTreeRegressor(),\n",
    "    \"Random Forest Regressor\": RandomForestRegressor(),\n",
    "    \"XGBRegressor\": XGBRegressor(), \n",
    "    \"CatBoosting Regressor\": CatBoostRegressor(verbose=False),\n",
    "    \"AdaBoost Regressor\": AdaBoostRegressor()\n",
    "}"
   ]
  },
  {
   "cell_type": "code",
   "execution_count": 17,
   "id": "afee0f10",
   "metadata": {},
   "outputs": [
    {
     "name": "stdout",
     "output_type": "stream",
     "text": [
      "Linear Regression\n",
      "Model Performance for Training set\n",
      " - Root Mean Square Error: 5.3293\n",
      " - Mean Absolute Error: 4.2715\n",
      " - R2 Score: 0.8740\n",
      "----------------------------------\n",
      "Model Performance for Test set\n",
      " - Root Mean Square Error: 5.4252\n",
      " - Mean Absolute Error: 4.2222\n",
      " - R2 Score: 0.8790\n",
      "===================================\n",
      "\n",
      "\n",
      "Lasso\n",
      "Model Performance for Training set\n",
      " - Root Mean Square Error: 6.5938\n",
      " - Mean Absolute Error: 5.2063\n",
      " - R2 Score: 0.8071\n",
      "----------------------------------\n",
      "Model Performance for Test set\n",
      " - Root Mean Square Error: 6.5197\n",
      " - Mean Absolute Error: 5.1579\n",
      " - R2 Score: 0.8253\n",
      "===================================\n",
      "\n",
      "\n",
      "Ridge\n",
      "Model Performance for Training set\n",
      " - Root Mean Square Error: 5.3233\n",
      " - Mean Absolute Error: 4.2650\n",
      " - R2 Score: 0.8743\n",
      "----------------------------------\n",
      "Model Performance for Test set\n",
      " - Root Mean Square Error: 5.3904\n",
      " - Mean Absolute Error: 4.2111\n",
      " - R2 Score: 0.8806\n",
      "===================================\n",
      "\n",
      "\n",
      "K-Neighbors Regressor\n",
      "Model Performance for Training set\n",
      " - Root Mean Square Error: 5.7079\n",
      " - Mean Absolute Error: 4.5168\n",
      " - R2 Score: 0.8555\n",
      "----------------------------------\n",
      "Model Performance for Test set\n",
      " - Root Mean Square Error: 7.2530\n",
      " - Mean Absolute Error: 5.6210\n",
      " - R2 Score: 0.7838\n",
      "===================================\n",
      "\n",
      "\n",
      "Decision Tree\n",
      "Model Performance for Training set\n",
      " - Root Mean Square Error: 0.2795\n",
      " - Mean Absolute Error: 0.0187\n",
      " - R2 Score: 0.9997\n",
      "----------------------------------\n",
      "Model Performance for Test set\n",
      " - Root Mean Square Error: 7.6354\n",
      " - Mean Absolute Error: 6.0600\n",
      " - R2 Score: 0.7604\n",
      "===================================\n",
      "\n",
      "\n",
      "Random Forest Regressor\n",
      "Model Performance for Training set\n",
      " - Root Mean Square Error: 2.3090\n",
      " - Mean Absolute Error: 1.8324\n",
      " - R2 Score: 0.9764\n",
      "----------------------------------\n",
      "Model Performance for Test set\n",
      " - Root Mean Square Error: 6.0088\n",
      " - Mean Absolute Error: 4.6466\n",
      " - R2 Score: 0.8516\n",
      "===================================\n",
      "\n",
      "\n",
      "XGBRegressor\n",
      "Model Performance for Training set\n",
      " - Root Mean Square Error: 1.0073\n",
      " - Mean Absolute Error: 0.6875\n",
      " - R2 Score: 0.9955\n",
      "----------------------------------\n",
      "Model Performance for Test set\n",
      " - Root Mean Square Error: 6.4733\n",
      " - Mean Absolute Error: 5.0577\n",
      " - R2 Score: 0.8278\n",
      "===================================\n",
      "\n",
      "\n",
      "CatBoosting Regressor\n",
      "Model Performance for Training set\n",
      " - Root Mean Square Error: 3.0427\n",
      " - Mean Absolute Error: 2.4054\n",
      " - R2 Score: 0.9589\n",
      "----------------------------------\n",
      "Model Performance for Test set\n",
      " - Root Mean Square Error: 6.0086\n",
      " - Mean Absolute Error: 4.6125\n",
      " - R2 Score: 0.8516\n",
      "===================================\n",
      "\n",
      "\n",
      "AdaBoost Regressor\n",
      "Model Performance for Training set\n",
      " - Root Mean Square Error: 5.8430\n",
      " - Mean Absolute Error: 4.7872\n",
      " - R2 Score: 0.8486\n",
      "----------------------------------\n",
      "Model Performance for Test set\n",
      " - Root Mean Square Error: 6.0078\n",
      " - Mean Absolute Error: 4.6409\n",
      " - R2 Score: 0.8517\n",
      "===================================\n",
      "\n",
      "\n"
     ]
    }
   ],
   "source": [
    "model_list = []\n",
    "r2_list = []\n",
    "for i in range(len(list(models))):\n",
    "    \n",
    "    model = list(models.values())[i]\n",
    "    model.fit(X_train, Y_train)\n",
    "    \n",
    "    Y_train_pred = model.predict(X_train)\n",
    "    Y_test_pred = model.predict(X_test)\n",
    "    \n",
    "    model_train_mae, model_train_rmse, model_train_r2_square = evaluate_model(Y_train, Y_train_pred)\n",
    "    model_test_mae, model_test_rmse, model_test_r2_square = evaluate_model(Y_test, Y_test_pred)\n",
    "    \n",
    "    print(list(models.keys())[i])\n",
    "    model_list.append(list(models.keys())[i])\n",
    "    \n",
    "    print('Model Performance for Training set')\n",
    "    print(\" - Root Mean Square Error: {:.4f}\".format(model_train_rmse))\n",
    "    print(\" - Mean Absolute Error: {:.4f}\".format(model_train_mae))\n",
    "    print(\" - R2 Score: {:.4f}\".format(model_train_r2_square))\n",
    "    \n",
    "    print('----------------------------------')\n",
    "    \n",
    "    print('Model Performance for Test set')\n",
    "    print(\" - Root Mean Square Error: {:.4f}\".format(model_test_rmse))\n",
    "    print(\" - Mean Absolute Error: {:.4f}\".format(model_test_mae))\n",
    "    print(\" - R2 Score: {:.4f}\".format(model_test_r2_square))\n",
    "    \n",
    "    r2_list.append(model_test_r2_square)\n",
    "    \n",
    "    print('='*35)\n",
    "    print('\\n')"
   ]
  },
  {
   "cell_type": "code",
   "execution_count": 18,
   "id": "84baecb2",
   "metadata": {},
   "outputs": [
    {
     "data": {
      "text/html": [
       "<div>\n",
       "<style scoped>\n",
       "    .dataframe tbody tr th:only-of-type {\n",
       "        vertical-align: middle;\n",
       "    }\n",
       "\n",
       "    .dataframe tbody tr th {\n",
       "        vertical-align: top;\n",
       "    }\n",
       "\n",
       "    .dataframe thead th {\n",
       "        text-align: right;\n",
       "    }\n",
       "</style>\n",
       "<table border=\"1\" class=\"dataframe\">\n",
       "  <thead>\n",
       "    <tr style=\"text-align: right;\">\n",
       "      <th></th>\n",
       "      <th>Model Name</th>\n",
       "      <th>R2_score</th>\n",
       "    </tr>\n",
       "  </thead>\n",
       "  <tbody>\n",
       "    <tr>\n",
       "      <th>2</th>\n",
       "      <td>Ridge</td>\n",
       "      <td>0.880593</td>\n",
       "    </tr>\n",
       "    <tr>\n",
       "      <th>0</th>\n",
       "      <td>Linear Regression</td>\n",
       "      <td>0.879046</td>\n",
       "    </tr>\n",
       "    <tr>\n",
       "      <th>8</th>\n",
       "      <td>AdaBoost Regressor</td>\n",
       "      <td>0.851675</td>\n",
       "    </tr>\n",
       "    <tr>\n",
       "      <th>7</th>\n",
       "      <td>CatBoosting Regressor</td>\n",
       "      <td>0.851632</td>\n",
       "    </tr>\n",
       "    <tr>\n",
       "      <th>5</th>\n",
       "      <td>Random Forest Regressor</td>\n",
       "      <td>0.851622</td>\n",
       "    </tr>\n",
       "    <tr>\n",
       "      <th>6</th>\n",
       "      <td>XGBRegressor</td>\n",
       "      <td>0.827797</td>\n",
       "    </tr>\n",
       "    <tr>\n",
       "      <th>1</th>\n",
       "      <td>Lasso</td>\n",
       "      <td>0.825320</td>\n",
       "    </tr>\n",
       "    <tr>\n",
       "      <th>3</th>\n",
       "      <td>K-Neighbors Regressor</td>\n",
       "      <td>0.783813</td>\n",
       "    </tr>\n",
       "    <tr>\n",
       "      <th>4</th>\n",
       "      <td>Decision Tree</td>\n",
       "      <td>0.760416</td>\n",
       "    </tr>\n",
       "  </tbody>\n",
       "</table>\n",
       "</div>"
      ],
      "text/plain": [
       "                Model Name  R2_score\n",
       "2                    Ridge  0.880593\n",
       "0        Linear Regression  0.879046\n",
       "8       AdaBoost Regressor  0.851675\n",
       "7    CatBoosting Regressor  0.851632\n",
       "5  Random Forest Regressor  0.851622\n",
       "6             XGBRegressor  0.827797\n",
       "1                    Lasso  0.825320\n",
       "3    K-Neighbors Regressor  0.783813\n",
       "4            Decision Tree  0.760416"
      ]
     },
     "execution_count": 18,
     "metadata": {},
     "output_type": "execute_result"
    }
   ],
   "source": [
    "pd.DataFrame(list(zip(model_list, r2_list)), columns=['Model Name', 'R2_score']).sort_values(by='R2_score', ascending=False)"
   ]
  },
  {
   "cell_type": "markdown",
   "id": "ce42dfe3",
   "metadata": {},
   "source": [
    "## Linear Regression"
   ]
  },
  {
   "cell_type": "code",
   "execution_count": 19,
   "id": "6dacdee9",
   "metadata": {},
   "outputs": [
    {
     "name": "stdout",
     "output_type": "stream",
     "text": [
      " Accuracy of the model is 87.9\n"
     ]
    }
   ],
   "source": [
    "lin_model = LinearRegression(fit_intercept=True)\n",
    "lin_model.fit(X_train, Y_train)\n",
    "Y_pred = lin_model.predict(X_test)\n",
    "score = r2_score(Y_test, Y_pred)*100\n",
    "print(f\" Accuracy of the model is {round(score,2)}\")"
   ]
  },
  {
   "cell_type": "markdown",
   "id": "b503da21",
   "metadata": {},
   "source": [
    "## Plot y_pred and y_test"
   ]
  },
  {
   "cell_type": "code",
   "execution_count": 20,
   "id": "2bb66d7f",
   "metadata": {},
   "outputs": [
    {
     "data": {
      "image/png": "[encoded data removed]",
      "text/plain": [
       "<Figure size 640x480 with 1 Axes>"
      ]
     },
     "metadata": {},
     "output_type": "display_data"
    }
   ],
   "source": [
    "plt.scatter(Y_test, Y_test, color='red', label='Actual')\n",
    "plt.scatter(Y_test, Y_pred)\n",
    "plt.xlabel('Actual')\n",
    "plt.ylabel('Predicted')\n",
    "plt.show()"
   ]
  },
  {
   "cell_type": "code",
   "execution_count": 21,
   "id": "3be75118",
   "metadata": {},
   "outputs": [
    {
     "data": {
      "image/png": "[encoded data removed]",
      "text/plain": [
       "<Figure size 640x480 with 1 Axes>"
      ]
     },
     "metadata": {},
     "output_type": "display_data"
    }
   ],
   "source": [
    "sns.regplot(x=Y_test,y=Y_pred,ci=None,color ='red')\n",
    "plt.show()"
   ]
  },
  {
   "cell_type": "markdown",
   "id": "0a5eab70",
   "metadata": {},
   "source": [
    "## Difference Between Actual and Predicted Values"
   ]
  },
  {
   "cell_type": "code",
   "execution_count": 22,
   "id": "f108ba14",
   "metadata": {},
   "outputs": [
    {
     "data": {
      "text/html": [
       "<div>\n",
       "<style scoped>\n",
       "    .dataframe tbody tr th:only-of-type {\n",
       "        vertical-align: middle;\n",
       "    }\n",
       "\n",
       "    .dataframe tbody tr th {\n",
       "        vertical-align: top;\n",
       "    }\n",
       "\n",
       "    .dataframe thead th {\n",
       "        text-align: right;\n",
       "    }\n",
       "</style>\n",
       "<table border=\"1\" class=\"dataframe\">\n",
       "  <thead>\n",
       "    <tr style=\"text-align: right;\">\n",
       "      <th></th>\n",
       "      <th>Actual Value</th>\n",
       "      <th>Predicted Value</th>\n",
       "      <th>Difference</th>\n",
       "    </tr>\n",
       "  </thead>\n",
       "  <tbody>\n",
       "    <tr>\n",
       "      <th>521</th>\n",
       "      <td>91</td>\n",
       "      <td>76.4375</td>\n",
       "      <td>14.5625</td>\n",
       "    </tr>\n",
       "    <tr>\n",
       "      <th>737</th>\n",
       "      <td>53</td>\n",
       "      <td>59.3125</td>\n",
       "      <td>-6.3125</td>\n",
       "    </tr>\n",
       "    <tr>\n",
       "      <th>740</th>\n",
       "      <td>80</td>\n",
       "      <td>76.6250</td>\n",
       "      <td>3.3750</td>\n",
       "    </tr>\n",
       "    <tr>\n",
       "      <th>660</th>\n",
       "      <td>74</td>\n",
       "      <td>76.5625</td>\n",
       "      <td>-2.5625</td>\n",
       "    </tr>\n",
       "    <tr>\n",
       "      <th>411</th>\n",
       "      <td>84</td>\n",
       "      <td>87.7500</td>\n",
       "      <td>-3.7500</td>\n",
       "    </tr>\n",
       "    <tr>\n",
       "      <th>...</th>\n",
       "      <td>...</td>\n",
       "      <td>...</td>\n",
       "      <td>...</td>\n",
       "    </tr>\n",
       "    <tr>\n",
       "      <th>408</th>\n",
       "      <td>52</td>\n",
       "      <td>43.6875</td>\n",
       "      <td>8.3125</td>\n",
       "    </tr>\n",
       "    <tr>\n",
       "      <th>332</th>\n",
       "      <td>62</td>\n",
       "      <td>62.3125</td>\n",
       "      <td>-0.3125</td>\n",
       "    </tr>\n",
       "    <tr>\n",
       "      <th>208</th>\n",
       "      <td>74</td>\n",
       "      <td>67.7500</td>\n",
       "      <td>6.2500</td>\n",
       "    </tr>\n",
       "    <tr>\n",
       "      <th>613</th>\n",
       "      <td>65</td>\n",
       "      <td>67.0000</td>\n",
       "      <td>-2.0000</td>\n",
       "    </tr>\n",
       "    <tr>\n",
       "      <th>78</th>\n",
       "      <td>61</td>\n",
       "      <td>62.6875</td>\n",
       "      <td>-1.6875</td>\n",
       "    </tr>\n",
       "  </tbody>\n",
       "</table>\n",
       "<p>200 rows × 3 columns</p>\n",
       "</div>"
      ],
      "text/plain": [
       "     Actual Value  Predicted Value  Difference\n",
       "521            91          76.4375     14.5625\n",
       "737            53          59.3125     -6.3125\n",
       "740            80          76.6250      3.3750\n",
       "660            74          76.5625     -2.5625\n",
       "411            84          87.7500     -3.7500\n",
       "..            ...              ...         ...\n",
       "408            52          43.6875      8.3125\n",
       "332            62          62.3125     -0.3125\n",
       "208            74          67.7500      6.2500\n",
       "613            65          67.0000     -2.0000\n",
       "78             61          62.6875     -1.6875\n",
       "\n",
       "[200 rows x 3 columns]"
      ]
     },
     "execution_count": 22,
     "metadata": {},
     "output_type": "execute_result"
    }
   ],
   "source": [
    "pd.DataFrame({'Actual Value' : Y_test, 'Predicted Value' : Y_pred, 'Difference' : (Y_test - Y_pred)})"
   ]
  }
 ],
 "metadata": {
  "kernelspec": {
   "display_name": "Python 3 (ipykernel)",
   "language": "python",
   "name": "python3"
  },
  "language_info": {
   "codemirror_mode": {
    "name": "ipython",
    "version": 3
   },
   "file_extension": ".py",
   "mimetype": "text/x-python",
   "name": "python",
   "nbconvert_exporter": "python",
   "pygments_lexer": "ipython3",
   "version": "3.8.0"
  }
 },
 "nbformat": 4,
 "nbformat_minor": 5
}
